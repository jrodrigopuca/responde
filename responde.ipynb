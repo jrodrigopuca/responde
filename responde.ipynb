{
  "cells": [
    {
      "cell_type": "markdown",
      "metadata": {
        "id": "wEWQ7Yr3bac-"
      },
      "source": [
        "# Hola"
      ]
    },
    {
      "cell_type": "code",
      "source": [
        "!pip install torch --quiet"
      ],
      "metadata": {
        "id": "MOIjtFx_cfgL"
      },
      "execution_count": 5,
      "outputs": []
    },
    {
      "cell_type": "code",
      "source": [
        "# Paso 2: Dataset pequeño de ejemplo\n",
        "texto = \"\"\"\n",
        "La luna brilla sobre el mar.\n",
        "Las estrellas miran en silencio.\n",
        "La noche canta con voz serena.\n",
        "\"\"\""
      ],
      "metadata": {
        "id": "3aPPuo13dj-e"
      },
      "execution_count": 3,
      "outputs": []
    },
    {
      "cell_type": "code",
      "source": [
        "# Paso 3: Imports iniciales\n",
        "import torch"
      ],
      "metadata": {
        "id": "J6HfmigJgv5g"
      },
      "execution_count": 7,
      "outputs": []
    },
    {
      "cell_type": "code",
      "source": [
        "# Paso 4: Tokenización\n",
        "chars = sorted(list(set(texto)))\n",
        "vocab_size = len(chars)\n",
        "stoi = { ch:i for i,ch in enumerate(chars) }\n",
        "itos = { i:ch for i,ch in enumerate(chars) }\n",
        "encode = lambda s: [stoi[c] for c in s]\n",
        "decode = lambda l: ''.join([itos[i] for i in l])\n",
        "\n",
        "data = torch.tensor(encode(texto), dtype=torch.long)"
      ],
      "metadata": {
        "id": "FRfyguOBfSx8"
      },
      "execution_count": 9,
      "outputs": []
    },
    {
      "cell_type": "code",
      "source": [
        "# Paso 5: Hiperparámetros\n",
        "BLOCK_SIZE = 16\n",
        "BATCH_SIZE = 4\n",
        "EMBED_DIM = 32\n",
        "N_HEADS = 2\n",
        "N_LAYERS = 2\n",
        "EPOCHS = 300\n",
        "LEARNING_RATE = 1e-3"
      ],
      "metadata": {
        "id": "PjohWWfBg-mc"
      },
      "execution_count": 10,
      "outputs": []
    },
    {
      "cell_type": "code",
      "source": [
        "# Paso 6: Batching\n",
        "\n",
        "def get_batch(data):\n",
        "    ix = torch.randint(len(data) - BLOCK_SIZE, (BATCH_SIZE,))\n",
        "    x = torch.stack([data[i:i+BLOCK_SIZE] for i in ix])\n",
        "    y = torch.stack([data[i+1:i+BLOCK_SIZE+1] for i in ix])\n",
        "    return x, y"
      ],
      "metadata": {
        "id": "_55nunijhC4F"
      },
      "execution_count": 11,
      "outputs": []
    },
    {
      "cell_type": "code",
      "source": [
        "# Paso 7: Modelo MiniGPT\n",
        "import torch.nn as nn\n",
        "import torch.nn.functional as F\n",
        "\n",
        "class SelfAttentionHead(nn.Module):\n",
        "    def __init__(self, head_size):\n",
        "        super().__init__()\n",
        "        self.key = nn.Linear(EMBED_DIM, head_size, bias=False)\n",
        "        self.query = nn.Linear(EMBED_DIM, head_size, bias=False)\n",
        "        self.value = nn.Linear(EMBED_DIM, head_size, bias=False)\n",
        "        self.register_buffer(\"tril\", torch.tril(torch.ones(BLOCK_SIZE, BLOCK_SIZE)))\n",
        "\n",
        "    def forward(self, x):\n",
        "        B, T, C = x.shape\n",
        "        k = self.key(x)\n",
        "        q = self.query(x)\n",
        "        wei = q @ k.transpose(-2, -1) / (C**0.5)\n",
        "        wei = wei.masked_fill(self.tril[:T, :T] == 0, float('-inf'))\n",
        "        wei = F.softmax(wei, dim=-1)\n",
        "        v = self.value(x)\n",
        "        return wei @ v\n",
        "\n",
        "class MultiHeadAttention(nn.Module):\n",
        "    def __init__(self, num_heads, head_size):\n",
        "        super().__init__()\n",
        "        self.heads = nn.ModuleList([SelfAttentionHead(head_size) for _ in range(num_heads)])\n",
        "        self.proj = nn.Linear(num_heads * head_size, EMBED_DIM)\n",
        "\n",
        "    def forward(self, x):\n",
        "        return self.proj(torch.cat([h(x) for h in self.heads], dim=-1))\n",
        "\n",
        "class FeedForward(nn.Module):\n",
        "    def __init__(self):\n",
        "        super().__init__()\n",
        "        self.net = nn.Sequential(\n",
        "            nn.Linear(EMBED_DIM, 4 * EMBED_DIM),\n",
        "            nn.ReLU(),\n",
        "            nn.Linear(4 * EMBED_DIM, EMBED_DIM),\n",
        "        )\n",
        "\n",
        "    def forward(self, x):\n",
        "        return self.net(x)\n",
        "\n",
        "class Block(nn.Module):\n",
        "    def __init__(self):\n",
        "        super().__init__()\n",
        "        self.sa = MultiHeadAttention(N_HEADS, EMBED_DIM // N_HEADS)\n",
        "        self.ffwd = FeedForward()\n",
        "        self.ln1 = nn.LayerNorm(EMBED_DIM)\n",
        "        self.ln2 = nn.LayerNorm(EMBED_DIM)\n",
        "\n",
        "    def forward(self, x):\n",
        "        x = x + self.sa(self.ln1(x))\n",
        "        x = x + self.ffwd(self.ln2(x))\n",
        "        return x\n",
        "\n",
        "class MiniGPT(nn.Module):\n",
        "    def __init__(self):\n",
        "        super().__init__()\n",
        "        self.token_emb = nn.Embedding(vocab_size, EMBED_DIM)\n",
        "        self.pos_emb = nn.Embedding(BLOCK_SIZE, EMBED_DIM)\n",
        "        self.blocks = nn.Sequential(*[Block() for _ in range(N_LAYERS)])\n",
        "        self.ln_f = nn.LayerNorm(EMBED_DIM)\n",
        "        self.head = nn.Linear(EMBED_DIM, vocab_size)\n",
        "\n",
        "    def forward(self, idx):\n",
        "        B, T = idx.shape\n",
        "        tok_emb = self.token_emb(idx)\n",
        "        pos_emb = self.pos_emb(torch.arange(T, device=idx.device))\n",
        "        x = tok_emb + pos_emb\n",
        "        x = self.blocks(x)\n",
        "        x = self.ln_f(x)\n",
        "        logits = self.head(x)\n",
        "        return logits\n",
        "\n",
        "    def generate(self, idx, max_new_tokens):\n",
        "        for _ in range(max_new_tokens):\n",
        "            idx_cond = idx[:, -BLOCK_SIZE:]\n",
        "            logits = self(idx_cond)\n",
        "            logits = logits[:, -1, :]\n",
        "            probs = F.softmax(logits, dim=-1)\n",
        "            next_id = torch.multinomial(probs, num_samples=1)\n",
        "            idx = torch.cat((idx, next_id), dim=1)\n",
        "        return idx\n",
        "\n",
        "model = MiniGPT()\n",
        "optimizer = torch.optim.AdamW(model.parameters(), lr=LEARNING_RATE)"
      ],
      "metadata": {
        "id": "ibfVlmsdhEYL"
      },
      "execution_count": 12,
      "outputs": []
    },
    {
      "cell_type": "code",
      "source": [
        "# Paso 8: Entrenamiento\n",
        "for step in range(EPOCHS):\n",
        "    x, y = get_batch(data)\n",
        "    logits = model(x)\n",
        "    loss = F.cross_entropy(logits.view(-1, vocab_size), y.view(-1))\n",
        "\n",
        "    optimizer.zero_grad()\n",
        "    loss.backward()\n",
        "    optimizer.step()\n",
        "\n",
        "    if step % 50 == 0:\n",
        "        print(f\"Paso {step} - Pérdida: {loss.item():.4f}\")"
      ],
      "metadata": {
        "id": "GOXjp_7ohQWV",
        "outputId": "d3b63d01-7a1d-4b95-c981-e3676dbb906c",
        "colab": {
          "base_uri": "https://localhost:8080/"
        }
      },
      "execution_count": 13,
      "outputs": [
        {
          "output_type": "stream",
          "name": "stdout",
          "text": [
            "Paso 0 - Pérdida: 3.2035\n",
            "Paso 50 - Pérdida: 2.3259\n",
            "Paso 100 - Pérdida: 1.7618\n",
            "Paso 150 - Pérdida: 1.3205\n",
            "Paso 200 - Pérdida: 0.9804\n",
            "Paso 250 - Pérdida: 0.7618\n"
          ]
        }
      ]
    },
    {
      "cell_type": "code",
      "source": [
        "# Paso 9: Generación de texto\n",
        "context = torch.zeros((1, 1), dtype=torch.long)\n",
        "print(\"\\n--- Texto generado ---\")\n",
        "print(decode(model.generate(context, 100)[0].tolist()))"
      ],
      "metadata": {
        "id": "sE1m4AoshZgi",
        "outputId": "de7649a4-f377-44a1-b38b-bad9b893ec9f",
        "colab": {
          "base_uri": "https://localhost:8080/"
        }
      },
      "execution_count": 18,
      "outputs": [
        {
          "output_type": "stream",
          "name": "stdout",
          "text": [
            "\n",
            "--- Texto generado ---\n",
            "\n",
            "La noche sa che r.\n",
            "Lanta czlcobre strenana el el ma mi\n",
            "La.\n",
            "Lanobrill ea sobrellel mhmase enastrellll\n"
          ]
        }
      ]
    }
  ],
  "metadata": {
    "language_info": {
      "name": "python"
    },
    "colab": {
      "provenance": [],
      "toc_visible": true
    },
    "kernelspec": {
      "name": "python3",
      "display_name": "Python 3"
    }
  },
  "nbformat": 4,
  "nbformat_minor": 0
}