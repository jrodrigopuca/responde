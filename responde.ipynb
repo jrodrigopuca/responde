{
  "cells": [
    {
      "cell_type": "markdown",
      "metadata": {
        "id": "wEWQ7Yr3bac-"
      },
      "source": [
        "# Hola"
      ]
    },
    {
      "cell_type": "code",
      "source": [
        "print(\"Hola desde Colab!\")"
      ],
      "metadata": {
        "id": "JSjbn1JybiUi",
        "outputId": "8032fca6-825f-4cd4-a5d1-31ba4451ca3d",
        "colab": {
          "base_uri": "https://localhost:8080/"
        }
      },
      "execution_count": 1,
      "outputs": [
        {
          "output_type": "stream",
          "name": "stdout",
          "text": [
            "Hola desde Colab!\n"
          ]
        }
      ]
    }
  ],
  "metadata": {
    "language_info": {
      "name": "python"
    },
    "colab": {
      "provenance": []
    },
    "kernelspec": {
      "name": "python3",
      "display_name": "Python 3"
    }
  },
  "nbformat": 4,
  "nbformat_minor": 0
}